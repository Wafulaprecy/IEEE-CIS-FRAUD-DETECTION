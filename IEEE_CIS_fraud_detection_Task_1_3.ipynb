{
  "nbformat": 4,
  "nbformat_minor": 0,
  "metadata": {
    "colab": {
      "provenance": []
    },
    "kernelspec": {
      "name": "python3",
      "display_name": "Python 3"
    },
    "language_info": {
      "name": "python"
    }
  },
  "cells": [
    {
      "cell_type": "markdown",
      "source": [
        "**Task 1: Finding Dataset**"
      ],
      "metadata": {
        "id": "_l_n_ch7DqFt"
      }
    },
    {
      "cell_type": "code",
      "execution_count": 1,
      "metadata": {
        "colab": {
          "base_uri": "https://localhost:8080/"
        },
        "id": "acUBHxSvU7Iz",
        "outputId": "653f278a-486b-490e-a0f2-2cd75a7398d7"
      },
      "outputs": [
        {
          "output_type": "stream",
          "name": "stdout",
          "text": [
            "Transaction shape: (10852, 394)\n",
            "Identity shape: (60879, 41)\n",
            "Transaction columns: 394\n",
            "Identity columns: 41\n",
            "\n",
            "Data types summary:\n",
            "float64    376\n",
            "object      14\n",
            "int64        4\n",
            "Name: count, dtype: int64\n",
            "\n",
            "Merged shape: (10852, 434)\n",
            "Merged columns: 434\n",
            "\n",
            "Missing values percentage (top 10):\n",
            "id_24    0.994655\n",
            "id_22    0.994102\n",
            "id_07    0.994102\n",
            "id_08    0.994102\n",
            "id_27    0.994102\n",
            "id_23    0.994102\n",
            "id_25    0.994102\n",
            "id_26    0.994102\n",
            "id_21    0.994102\n",
            "D7       0.978345\n",
            "dtype: float64\n"
          ]
        }
      ],
      "source": [
        "import pandas as pd\n",
        "\n",
        "# adjust the paths if needed\n",
        "train_tr = pd.read_csv(\"/content/train_transaction.csv\")\n",
        "train_id = pd.read_csv(\"/content/train_identity.csv\")\n",
        "\n",
        "print(\"Transaction shape:\", train_tr.shape)\n",
        "print(\"Identity shape:\", train_id.shape)\n",
        "print(\"Transaction columns:\", len(train_tr.columns))\n",
        "print(\"Identity columns:\", len(train_id.columns))\n",
        "print(\"\\nData types summary:\")\n",
        "print(train_tr.dtypes.value_counts())\n",
        "\n",
        "# Merge small sample to see total features\n",
        "merged = pd.merge(train_tr, train_id, on='TransactionID', how='left')\n",
        "print(\"\\nMerged shape:\", merged.shape)\n",
        "print(\"Merged columns:\", len(merged.columns))\n",
        "\n",
        "print(\"\\nMissing values percentage (top 10):\")\n",
        "print(merged.isna().mean().sort_values(ascending=False).head(10))\n"
      ]
    },
    {
      "cell_type": "markdown",
      "source": [
        "**🧠 Task 2 — Business Scenario (EDA & Insight Discovery)**"
      ],
      "metadata": {
        "id": "yf-z6Di3D76s"
      }
    },
    {
      "cell_type": "code",
      "source": [
        "# Import required libraries\n",
        "import pandas as pd\n",
        "import numpy as np\n",
        "import matplotlib.pyplot as plt\n",
        "import seaborn as sns\n",
        "\n",
        "# Display all columns\n",
        "pd.set_option('display.max_columns', None)\n",
        "\n",
        "# Load dataset\n",
        "# (Make sure to adjust your file paths as needed)\n",
        "transaction = pd.read_csv('/content/train_transaction.csv')\n",
        "identity = pd.read_csv('/content/train_identity.csv')\n",
        "\n",
        "# Merge the two datasets on TransactionID\n",
        "df = transaction.merge(identity, on='TransactionID', how='left')"
      ],
      "metadata": {
        "id": "1KV54uilDgWh"
      },
      "execution_count": 2,
      "outputs": []
    },
    {
      "cell_type": "code",
      "source": [
        "# Basic info\n",
        "print(\"Shape of merged dataset:\", df.shape)\n",
        "print(\"\\nColumn data types:\\n\", df.dtypes.value_counts())\n",
        "print(\"\\nTarget variable counts:\\n\", df['isFraud'].value_counts(normalize=True))\n"
      ],
      "metadata": {
        "colab": {
          "base_uri": "https://localhost:8080/"
        },
        "id": "c9c_TF1CDgS_",
        "outputId": "b44ec17c-b8a5-496a-e4c8-1c870e13864a"
      },
      "execution_count": 3,
      "outputs": [
        {
          "output_type": "stream",
          "name": "stdout",
          "text": [
            "Shape of merged dataset: (17474, 434)\n",
            "\n",
            "Column data types:\n",
            " float64    399\n",
            "object      31\n",
            "int64        4\n",
            "Name: count, dtype: int64\n",
            "\n",
            "Target variable counts:\n",
            " isFraud\n",
            "0    0.972588\n",
            "1    0.027412\n",
            "Name: proportion, dtype: float64\n"
          ]
        }
      ]
    },
    {
      "cell_type": "markdown",
      "source": [
        "1. Target Distribution"
      ],
      "metadata": {
        "id": "PWXD73fdEPO6"
      }
    },
    {
      "cell_type": "code",
      "source": [
        "plt.figure(figsize=(6,4))\n",
        "sns.countplot(x='isFraud', data=df, palette='coolwarm')\n",
        "plt.title(\"Distribution of Fraudulent vs Legitimate Transactions\")\n",
        "plt.xlabel(\"isFraud (1 = Fraud, 0 = Legitimate)\")\n",
        "plt.ylabel(\"Count\")\n",
        "plt.show()"
      ],
      "metadata": {
        "colab": {
          "base_uri": "https://localhost:8080/",
          "height": 517
        },
        "id": "Z-ALJwsODgQC",
        "outputId": "47080b2a-d197-4f2e-ba95-8f36f57db29b"
      },
      "execution_count": 4,
      "outputs": [
        {
          "output_type": "stream",
          "name": "stderr",
          "text": [
            "/tmp/ipython-input-440461079.py:2: FutureWarning: \n",
            "\n",
            "Passing `palette` without assigning `hue` is deprecated and will be removed in v0.14.0. Assign the `x` variable to `hue` and set `legend=False` for the same effect.\n",
            "\n",
            "  sns.countplot(x='isFraud', data=df, palette='coolwarm')\n"
          ]
        },
        {
          "output_type": "display_data",
          "data": {
            "text/plain": [
              "<Figure size 600x400 with 1 Axes>"
            ],
            "image/png": "[encoded data removed]"
          },
          "metadata": {}
        }
      ]
    },
    {
      "cell_type": "code",
      "source": [
        "# Percentage of fraud\n",
        "fraud_rate = df['isFraud'].mean() * 100\n",
        "print(f\"Fraudulent transactions: {fraud_rate:.2f}%\")"
      ],
      "metadata": {
        "colab": {
          "base_uri": "https://localhost:8080/"
        },
        "id": "X59LvbabDgNe",
        "outputId": "b7abfd69-19b3-4f7d-d4a8-8abbef3506bc"
      },
      "execution_count": 5,
      "outputs": [
        {
          "output_type": "stream",
          "name": "stdout",
          "text": [
            "Fraudulent transactions: 2.74%\n"
          ]
        }
      ]
    },
    {
      "cell_type": "markdown",
      "source": [
        "2. Transaction Amount Distribution"
      ],
      "metadata": {
        "id": "BioWiawVE0WQ"
      }
    },
    {
      "cell_type": "code",
      "source": [
        "plt.figure(figsize=(8,4))\n",
        "sns.histplot(df['TransactionAmt'], bins=100, kde=True)\n",
        "plt.title(\"Distribution of Transaction Amounts\")\n",
        "plt.xlabel(\"Transaction Amount\")\n",
        "plt.ylabel(\"Frequency\")\n",
        "plt.show()"
      ],
      "metadata": {
        "colab": {
          "base_uri": "https://localhost:8080/",
          "height": 410
        },
        "id": "GFGOtcnnDgLN",
        "outputId": "8bca6b95-a585-414a-9ccf-1648d2fba97e"
      },
      "execution_count": 6,
      "outputs": [
        {
          "output_type": "display_data",
          "data": {
            "text/plain": [
              "<Figure size 800x400 with 1 Axes>"
            ],
            "image/png": "[encoded data removed]"
          },
          "metadata": {}
        }
      ]
    },
    {
      "cell_type": "code",
      "source": [
        "# Compare transaction amounts for fraud vs non-fraud\n",
        "plt.figure(figsize=(8,4))\n",
        "sns.boxplot(x='isFraud', y='TransactionAmt', data=df, palette='Set2')\n",
        "plt.title(\"Transaction Amount by Fraud Status\")\n",
        "plt.xlabel(\"Fraud Status\")\n",
        "plt.ylabel(\"Transaction Amount\")\n",
        "plt.yscale('log')\n",
        "plt.show()\n",
        "\n",
        "print(df.groupby('isFraud')['TransactionAmt'].describe())"
      ],
      "metadata": {
        "colab": {
          "base_uri": "https://localhost:8080/",
          "height": 673
        },
        "id": "tNrFckGODgIM",
        "outputId": "eeeb1483-6e89-4574-b0cf-f41518eb5fa2"
      },
      "execution_count": 7,
      "outputs": [
        {
          "output_type": "stream",
          "name": "stderr",
          "text": [
            "/tmp/ipython-input-2860844725.py:3: FutureWarning: \n",
            "\n",
            "Passing `palette` without assigning `hue` is deprecated and will be removed in v0.14.0. Assign the `x` variable to `hue` and set `legend=False` for the same effect.\n",
            "\n",
            "  sns.boxplot(x='isFraud', y='TransactionAmt', data=df, palette='Set2')\n"
          ]
        },
        {
          "output_type": "display_data",
          "data": {
            "text/plain": [
              "<Figure size 800x400 with 1 Axes>"
            ],
            "image/png": "[encoded data removed]"
          },
          "metadata": {}
        },
        {
          "output_type": "stream",
          "name": "stdout",
          "text": [
            "           count        mean         std    min     25%     50%    75%  \\\n",
            "isFraud                                                                  \n",
            "0        16995.0  126.915796  209.402882  1.896  42.950  67.950  120.0   \n",
            "1          479.0  143.846729  190.702819  5.000  47.064  83.742  160.0   \n",
            "\n",
            "             max  \n",
            "isFraud           \n",
            "0        4007.95  \n",
            "1        2161.00  \n"
          ]
        }
      ]
    },
    {
      "cell_type": "markdown",
      "source": [
        "3. Time-based Fraud Patterns"
      ],
      "metadata": {
        "id": "80XGQPhbE8RM"
      }
    },
    {
      "cell_type": "code",
      "source": [
        "# TransactionDT = seconds from reference date, convert to days\n",
        "df['TransactionDay'] = df['TransactionDT'] / (24*60*60)\n",
        "plt.figure(figsize=(10,4))\n",
        "sns.histplot(df, x='TransactionDay', hue='isFraud', bins=50, element='step')\n",
        "plt.title(\"Fraud Transactions Over Time\")\n",
        "plt.xlabel(\"Transaction Day (approx.)\")\n",
        "plt.ylabel(\"Count\")\n",
        "plt.show()"
      ],
      "metadata": {
        "colab": {
          "base_uri": "https://localhost:8080/",
          "height": 386
        },
        "id": "_CjG97iGDgDn",
        "outputId": "04496a39-b670-4c55-bcf5-db76f0a8c7f3"
      },
      "execution_count": 9,
      "outputs": [
        {
          "output_type": "display_data",
          "data": {
            "text/plain": [
              "<Figure size 1000x400 with 1 Axes>"
            ],
            "image/png": "[encoded data removed]"
          },
          "metadata": {}
        }
      ]
    },
    {
      "cell_type": "markdown",
      "source": [
        "4. Device and Card Information"
      ],
      "metadata": {
        "id": "FtTddefSFEXP"
      }
    },
    {
      "cell_type": "code",
      "source": [
        "device_counts = df['DeviceType'].value_counts(dropna=False).head(10)\n",
        "print(\"\\nDevice Type Distribution:\\n\", device_counts)\n",
        "\n",
        "plt.figure(figsize=(6,4))\n",
        "sns.countplot(y='DeviceType', data=df, order=device_counts.index, palette='mako')\n",
        "plt.title(\"Most Common Device Types\")\n",
        "plt.xlabel(\"Count\")\n",
        "plt.ylabel(\"Device Type\")\n",
        "plt.show()"
      ],
      "metadata": {
        "colab": {
          "base_uri": "https://localhost:8080/",
          "height": 638
        },
        "id": "7la75YttDgAM",
        "outputId": "aea09ca7-f8a1-486b-94c8-0b7256ecb11a"
      },
      "execution_count": 10,
      "outputs": [
        {
          "output_type": "stream",
          "name": "stdout",
          "text": [
            "\n",
            "Device Type Distribution:\n",
            " DeviceType\n",
            "NaN        13424\n",
            "desktop     2628\n",
            "mobile      1422\n",
            "Name: count, dtype: int64\n"
          ]
        },
        {
          "output_type": "stream",
          "name": "stderr",
          "text": [
            "/tmp/ipython-input-3109955559.py:5: FutureWarning: \n",
            "\n",
            "Passing `palette` without assigning `hue` is deprecated and will be removed in v0.14.0. Assign the `y` variable to `hue` and set `legend=False` for the same effect.\n",
            "\n",
            "  sns.countplot(y='DeviceType', data=df, order=device_counts.index, palette='mako')\n"
          ]
        },
        {
          "output_type": "display_data",
          "data": {
            "text/plain": [
              "<Figure size 600x400 with 1 Axes>"
            ],
            "image/png": "[encoded data removed]"
          },
          "metadata": {}
        }
      ]
    },
    {
      "cell_type": "code",
      "source": [
        "# Fraud rate by device type\n",
        "fraud_by_device = df.groupby('DeviceType')['isFraud'].mean().sort_values(ascending=False) * 100\n",
        "print(\"\\nFraud Rate by Device Type (%):\\n\", fraud_by_device)\n",
        "\n",
        "# Card1 distribution (most common cards)\n",
        "top_cards = df['card1'].value_counts().head(10)\n",
        "plt.figure(figsize=(8,4))\n",
        "sns.barplot(x=top_cards.index, y=top_cards.values, palette='viridis')\n",
        "plt.title(\"Most Frequent Card IDs\")\n",
        "plt.xlabel(\"Card ID\")\n",
        "plt.ylabel(\"Transaction Count\")\n",
        "plt.show()\n",
        "\n",
        "# Fraud rate by card1\n",
        "card_fraud_rate = df.groupby('card1')['isFraud'].mean().sort_values(ascending=False).head(10) * 100\n",
        "print(\"\\nTop 10 Card IDs with Highest Fraud Rate (%):\\n\", card_fraud_rate)"
      ],
      "metadata": {
        "colab": {
          "base_uri": "https://localhost:8080/",
          "height": 864
        },
        "id": "sVh3HFpUFL_L",
        "outputId": "e6c30493-dde9-4c6e-858a-d638eb457f35"
      },
      "execution_count": 11,
      "outputs": [
        {
          "output_type": "stream",
          "name": "stdout",
          "text": [
            "\n",
            "Fraud Rate by Device Type (%):\n",
            " DeviceType\n",
            "mobile     7.876231\n",
            "desktop    3.652968\n",
            "Name: isFraud, dtype: float64\n"
          ]
        },
        {
          "output_type": "stream",
          "name": "stderr",
          "text": [
            "/tmp/ipython-input-2600312766.py:8: FutureWarning: \n",
            "\n",
            "Passing `palette` without assigning `hue` is deprecated and will be removed in v0.14.0. Assign the `x` variable to `hue` and set `legend=False` for the same effect.\n",
            "\n",
            "  sns.barplot(x=top_cards.index, y=top_cards.values, palette='viridis')\n"
          ]
        },
        {
          "output_type": "display_data",
          "data": {
            "text/plain": [
              "<Figure size 800x400 with 1 Axes>"
            ],
            "image/png": "[encoded data removed]"
          },
          "metadata": {}
        },
        {
          "output_type": "stream",
          "name": "stdout",
          "text": [
            "\n",
            "Top 10 Card IDs with Highest Fraud Rate (%):\n",
            " card1\n",
            "7413     100.0\n",
            "13709    100.0\n",
            "7149     100.0\n",
            "14906    100.0\n",
            "16554    100.0\n",
            "3524     100.0\n",
            "2743     100.0\n",
            "12422    100.0\n",
            "5832     100.0\n",
            "14667    100.0\n",
            "Name: isFraud, dtype: float64\n"
          ]
        }
      ]
    },
    {
      "cell_type": "markdown",
      "source": [
        "5. Missing Value Analysis"
      ],
      "metadata": {
        "id": "tomLc2t5GL5Z"
      }
    },
    {
      "cell_type": "code",
      "source": [
        "missing_percent = df.isnull().mean() * 100\n",
        "missing_top = missing_percent.sort_values(ascending=False).head(10)\n",
        "print(\"\\nTop 10 Columns with Most Missing Data:\\n\", missing_top)"
      ],
      "metadata": {
        "colab": {
          "base_uri": "https://localhost:8080/"
        },
        "id": "MHl7KO2VGKWq",
        "outputId": "246ceb52-c16f-4575-e1c0-b26d83ce7d36"
      },
      "execution_count": 12,
      "outputs": [
        {
          "output_type": "stream",
          "name": "stdout",
          "text": [
            "\n",
            "Top 10 Columns with Most Missing Data:\n",
            " id_24    99.387662\n",
            "id_21    99.330434\n",
            "id_07    99.313265\n",
            "id_08    99.313265\n",
            "id_25    99.307543\n",
            "id_26    99.307543\n",
            "id_27    99.307543\n",
            "id_23    99.307543\n",
            "id_22    99.307543\n",
            "D7       97.447636\n",
            "dtype: float64\n"
          ]
        }
      ]
    },
    {
      "cell_type": "code",
      "source": [
        "plt.figure(figsize=(10,4))\n",
        "sns.barplot(x=missing_top.index, y=missing_top.values, palette='rocket')\n",
        "plt.xticks(rotation=45)\n",
        "plt.title(\"Top 10 Features by Missing Value Percentage\")\n",
        "plt.ylabel(\"Missing Percentage (%)\")\n",
        "plt.show()"
      ],
      "metadata": {
        "colab": {
          "base_uri": "https://localhost:8080/",
          "height": 515
        },
        "id": "pjyod_15GT4i",
        "outputId": "2d6bb27c-434d-4554-9228-72b495ed57c2"
      },
      "execution_count": 13,
      "outputs": [
        {
          "output_type": "stream",
          "name": "stderr",
          "text": [
            "/tmp/ipython-input-3786493016.py:2: FutureWarning: \n",
            "\n",
            "Passing `palette` without assigning `hue` is deprecated and will be removed in v0.14.0. Assign the `x` variable to `hue` and set `legend=False` for the same effect.\n",
            "\n",
            "  sns.barplot(x=missing_top.index, y=missing_top.values, palette='rocket')\n"
          ]
        },
        {
          "output_type": "display_data",
          "data": {
            "text/plain": [
              "<Figure size 1000x400 with 1 Axes>"
            ],
            "image/png": "[encoded data removed]"
          },
          "metadata": {}
        }
      ]
    },
    {
      "cell_type": "markdown",
      "source": [
        "6. Correlation and Feature Relationships"
      ],
      "metadata": {
        "id": "XxqAp2BeGLCZ"
      }
    },
    {
      "cell_type": "code",
      "source": [
        "# Select numeric columns for correlation\n",
        "numeric_cols = df.select_dtypes(include=np.number).columns.tolist()\n",
        "\n",
        "corr_matrix = df[numeric_cols].corr()['isFraud'].sort_values(ascending=False).head(10)\n",
        "print(\"\\nTop 10 Features Positively Correlated with Fraud:\\n\", corr_matrix)"
      ],
      "metadata": {
        "colab": {
          "base_uri": "https://localhost:8080/"
        },
        "id": "WZYZLzyLGKTF",
        "outputId": "ea593bde-e1e1-4d12-f14b-5ed7815a6ed2"
      },
      "execution_count": 14,
      "outputs": [
        {
          "output_type": "stream",
          "name": "stdout",
          "text": [
            "\n",
            "Top 10 Features Positively Correlated with Fraud:\n",
            " isFraud    1.000000\n",
            "V156       0.318109\n",
            "V158       0.309275\n",
            "V155       0.304277\n",
            "V157       0.297145\n",
            "V201       0.293080\n",
            "C12        0.287204\n",
            "V147       0.270856\n",
            "V196       0.268472\n",
            "V146       0.268258\n",
            "Name: isFraud, dtype: float64\n"
          ]
        }
      ]
    },
    {
      "cell_type": "code",
      "source": [
        "# Visual correlation\n",
        "plt.figure(figsize=(6,4))\n",
        "sns.barplot(x=corr_matrix.values, y=corr_matrix.index, palette='coolwarm')\n",
        "plt.title(\"Top Correlated Features with Fraud (Positive)\")\n",
        "plt.xlabel(\"Correlation Coefficient\")\n",
        "plt.ylabel(\"Feature\")\n",
        "plt.show()"
      ],
      "metadata": {
        "colab": {
          "base_uri": "https://localhost:8080/",
          "height": 517
        },
        "id": "aVGSCod8GKQj",
        "outputId": "01f9ed79-cf5f-4833-e103-e667337bbc01"
      },
      "execution_count": 15,
      "outputs": [
        {
          "output_type": "stream",
          "name": "stderr",
          "text": [
            "/tmp/ipython-input-3316337743.py:3: FutureWarning: \n",
            "\n",
            "Passing `palette` without assigning `hue` is deprecated and will be removed in v0.14.0. Assign the `y` variable to `hue` and set `legend=False` for the same effect.\n",
            "\n",
            "  sns.barplot(x=corr_matrix.values, y=corr_matrix.index, palette='coolwarm')\n"
          ]
        },
        {
          "output_type": "display_data",
          "data": {
            "text/plain": [
              "<Figure size 600x400 with 1 Axes>"
            ],
            "image/png": "[encoded data removed]"
          },
          "metadata": {}
        }
      ]
    },
    {
      "cell_type": "markdown",
      "source": [
        "#Summary of EDA Observations"
      ],
      "metadata": {
        "id": "ecX-dg4zGsXj"
      }
    },
    {
      "cell_type": "code",
      "source": [
        "print(\"\\n--- SUMMARY OF FINDINGS ---\")\n",
        "print(f\"1️⃣ Fraudulent transactions make up {fraud_rate:.2f}% of all transactions (strong class imbalance).\")\n",
        "print(\"2️⃣ Fraudulent transactions often have higher average TransactionAmt.\")\n",
        "print(\"3️⃣ Certain device types and card IDs show higher fraud rates, suggesting behavioral risk patterns.\")\n",
        "print(\"4️⃣ Missingness is substantial in identity features (over 90% in some), requiring careful cleaning.\")\n",
        "print(\"5️⃣ Correlation analysis reveals top numeric predictors potentially linked to fraud behavior.\")\n"
      ],
      "metadata": {
        "colab": {
          "base_uri": "https://localhost:8080/"
        },
        "id": "kd6X4V5PGKOY",
        "outputId": "abc1820d-41ba-4d50-a9b7-c5a54545e190"
      },
      "execution_count": 16,
      "outputs": [
        {
          "output_type": "stream",
          "name": "stdout",
          "text": [
            "\n",
            "--- SUMMARY OF FINDINGS ---\n",
            "1️⃣ Fraudulent transactions make up 2.74% of all transactions (strong class imbalance).\n",
            "2️⃣ Fraudulent transactions often have higher average TransactionAmt.\n",
            "3️⃣ Certain device types and card IDs show higher fraud rates, suggesting behavioral risk patterns.\n",
            "4️⃣ Missingness is substantial in identity features (over 90% in some), requiring careful cleaning.\n",
            "5️⃣ Correlation analysis reveals top numeric predictors potentially linked to fraud behavior.\n"
          ]
        }
      ]
    },
    {
      "cell_type": "markdown",
      "source": [
        "**🧹 Task 3 — Data Preprocessing**"
      ],
      "metadata": {
        "id": "ejcgYi5wMH2v"
      }
    },
    {
      "cell_type": "markdown",
      "source": [
        "3.1. Handling Missing Values\n",
        "Observation:\n",
        "\n",
        "From Task 1, some identity features have over 90% missingness (e.g., id_24, id_25, id_21).\n",
        "\n",
        "Approach:\n",
        "\n",
        "Drop features with more than 85–90% missing values (little information value).\n",
        "\n",
        "For remaining columns:\n",
        "\n",
        "Fill numeric columns with median values.\n",
        "\n",
        "Fill categorical columns with mode values or \"Unknown\"."
      ],
      "metadata": {
        "id": "U04tmUh4MQn4"
      }
    },
    {
      "cell_type": "markdown",
      "source": [
        "0. Parameters / paths"
      ],
      "metadata": {
        "id": "5CdTqE47N2DU"
      }
    },
    {
      "cell_type": "code",
      "source": [
        "import os, gc, pickle\n",
        "import numpy as np\n",
        "import pandas as pd\n",
        "from sklearn.model_selection import KFold, StratifiedKFold, train_test_split\n",
        "from sklearn.preprocessing import LabelEncoder\n",
        "from sklearn.impute import SimpleImputer\n",
        "\n",
        "TRAN_FILE = \"/content/train_transaction.csv\"\n",
        "ID_FILE = \"/content/train_identity.csv\"\n",
        "OUT_DIR = \"preprocessed\"\n",
        "os.makedirs(OUT_DIR, exist_ok=True)\n",
        "RANDOM_STATE = 42\n"
      ],
      "metadata": {
        "id": "2hxVsVByNd1v"
      },
      "execution_count": 17,
      "outputs": []
    },
    {
      "cell_type": "markdown",
      "source": [
        "1. Load & merge safely"
      ],
      "metadata": {
        "id": "gTYwK_-vNwG9"
      }
    },
    {
      "cell_type": "code",
      "source": [
        "print(\"Loading transaction file...\")\n",
        "tr = pd.read_csv(TRAN_FILE)\n",
        "print(\"Loading identity file...\")\n",
        "idf = pd.read_csv(ID_FILE)\n",
        "\n",
        "print(\"Transaction shape:\", tr.shape)\n",
        "print(\"Identity shape:\", idf.shape)\n",
        "\n",
        "print(\"Merging on TransactionID (left join transaction <- identity)...\")\n",
        "df = tr.merge(idf, on=\"TransactionID\", how=\"left\")\n",
        "print(\"Merged shape:\", df.shape)\n",
        "\n",
        "# free memory\n",
        "del tr, idf\n",
        "gc.collect()"
      ],
      "metadata": {
        "colab": {
          "base_uri": "https://localhost:8080/"
        },
        "id": "ZyNL4AumNtm_",
        "outputId": "5a27ee29-aa31-4842-b0f3-f9003d6d137e"
      },
      "execution_count": 18,
      "outputs": [
        {
          "output_type": "stream",
          "name": "stdout",
          "text": [
            "Loading transaction file...\n",
            "Loading identity file...\n",
            "Transaction shape: (206508, 394)\n",
            "Identity shape: (144233, 41)\n",
            "Merging on TransactionID (left join transaction <- identity)...\n",
            "Merged shape: (206508, 434)\n"
          ]
        },
        {
          "output_type": "execute_result",
          "data": {
            "text/plain": [
              "28193"
            ]
          },
          "metadata": {},
          "execution_count": 18
        }
      ]
    },
    {
      "cell_type": "markdown",
      "source": [
        "2. Quick dtype & missingness summary"
      ],
      "metadata": {
        "id": "8y7PX3b1OPtK"
      }
    },
    {
      "cell_type": "code",
      "source": [
        "print(\"\\nDtypes count:\\n\", df.dtypes.value_counts())\n",
        "missing_pct = df.isna().mean().sort_values(ascending=False)\n",
        "print(\"\\nTop 20 missing%:\\n\", missing_pct.head(20))\n",
        "\n",
        "# Save this report if desired\n",
        "missing_pct.to_csv(os.path.join(OUT_DIR, \"missing_percent.csv\"))"
      ],
      "metadata": {
        "colab": {
          "base_uri": "https://localhost:8080/"
        },
        "id": "rPkJf8iKHbTa",
        "outputId": "6d637756-a4a8-4b46-887e-cb9465f68747"
      },
      "execution_count": 19,
      "outputs": [
        {
          "output_type": "stream",
          "name": "stdout",
          "text": [
            "\n",
            "Dtypes count:\n",
            " float64    399\n",
            "object      31\n",
            "int64        4\n",
            "Name: count, dtype: int64\n",
            "\n",
            "Top 20 missing%:\n",
            " id_24    0.988320\n",
            "id_25    0.987463\n",
            "id_21    0.987424\n",
            "id_08    0.987419\n",
            "id_07    0.987419\n",
            "id_26    0.987410\n",
            "id_27    0.987405\n",
            "id_22    0.987405\n",
            "id_23    0.987405\n",
            "D7       0.936511\n",
            "dist2    0.922754\n",
            "D13      0.898566\n",
            "id_18    0.893791\n",
            "D14      0.889660\n",
            "D12      0.887050\n",
            "D6       0.869497\n",
            "id_03    0.849909\n",
            "id_04    0.849909\n",
            "id_09    0.826535\n",
            "D9       0.826535\n",
            "dtype: float64\n"
          ]
        }
      ]
    },
    {
      "cell_type": "markdown",
      "source": [
        "3. Memory reduction helper"
      ],
      "metadata": {
        "id": "Nnae4yiJORhp"
      }
    },
    {
      "cell_type": "code",
      "source": [
        "def reduce_mem_usage(df):\n",
        "    start_mem = df.memory_usage(deep=True).sum() / 1024**2\n",
        "    print(f\"Memory usage (MB) before: {start_mem:.2f}\")\n",
        "    for col in df.columns:\n",
        "        col_type = df[col].dtype\n",
        "        if col_type == object:\n",
        "            continue\n",
        "        c_min = df[col].min(skipna=True)\n",
        "        c_max = df[col].max(skipna=True)\n",
        "        if str(col_type).startswith('int') or str(col_type).startswith('float'):\n",
        "            if pd.isna(c_min) or pd.isna(c_max):\n",
        "                continue\n",
        "            if str(col_type).startswith('int'):\n",
        "                if c_min >= 0:\n",
        "                    if c_max < 255:\n",
        "                        df[col] = df[col].astype('uint8')\n",
        "                    elif c_max < 65535:\n",
        "                        df[col] = df[col].astype('uint16')\n",
        "                    elif c_max < 4294967295:\n",
        "                        df[col] = df[col].astype('uint32')\n",
        "                else:\n",
        "                    df[col] = pd.to_numeric(df[col], downcast='integer')\n",
        "            else:\n",
        "                df[col] = pd.to_numeric(df[col], downcast='float')\n",
        "    end_mem = df.memory_usage(deep=True).sum() / 1024**2\n",
        "    print(f\"Memory usage (MB) after: {end_mem:.2f} (reduction {(start_mem-end_mem)/start_mem*100:.1f}%)\")\n",
        "    return df\n",
        "\n",
        "df = reduce_mem_usage(df)\n",
        "gc.collect()"
      ],
      "metadata": {
        "colab": {
          "base_uri": "https://localhost:8080/"
        },
        "id": "d0cwJiiGGKKK",
        "outputId": "ad13dac9-2805-4807-c90e-7298307b9ae1"
      },
      "execution_count": 20,
      "outputs": [
        {
          "output_type": "stream",
          "name": "stdout",
          "text": [
            "Memory usage (MB) before: 881.18\n",
            "Memory usage (MB) after: 562.72 (reduction 36.1%)\n"
          ]
        },
        {
          "output_type": "execute_result",
          "data": {
            "text/plain": [
              "12261"
            ]
          },
          "metadata": {},
          "execution_count": 20
        }
      ]
    },
    {
      "cell_type": "markdown",
      "source": [
        "4. Drop columns with excessive missingness"
      ],
      "metadata": {
        "id": "KqSu2D7DO4Xr"
      }
    },
    {
      "cell_type": "code",
      "source": [
        "MISSING_THRESHOLD = 0.90  # drop cols with >90% missing\n",
        "missing_pct = df.isna().mean()\n",
        "cols_drop = missing_pct[missing_pct > MISSING_THRESHOLD].index.tolist()\n",
        "print(f\"Dropping {len(cols_drop)} columns with >{MISSING_THRESHOLD*100:.0f}% missing: {cols_drop[:10]} ...\")\n",
        "df.drop(columns=cols_drop, inplace=True)\n",
        "print(\"New shape:\", df.shape)"
      ],
      "metadata": {
        "colab": {
          "base_uri": "https://localhost:8080/"
        },
        "id": "_yoz_zZlGKH2",
        "outputId": "0d64beac-8799-4a8c-d1c9-420548c6140c"
      },
      "execution_count": 21,
      "outputs": [
        {
          "output_type": "stream",
          "name": "stdout",
          "text": [
            "Dropping 11 columns with >90% missing: ['dist2', 'D7', 'id_07', 'id_08', 'id_21', 'id_22', 'id_23', 'id_24', 'id_25', 'id_26'] ...\n",
            "New shape: (206508, 423)\n"
          ]
        }
      ]
    },
    {
      "cell_type": "markdown",
      "source": [
        "5. Basic cleaning: remove duplicate TransactionID rows (if any)"
      ],
      "metadata": {
        "id": "nYstVEcdO8Ht"
      }
    },
    {
      "cell_type": "code",
      "source": [
        "dups = df.duplicated(subset=[\"TransactionID\"]).sum()\n",
        "print(\"Duplicate TransactionID rows:\", dups)\n",
        "if dups > 0:\n",
        "    df = df.drop_duplicates(subset=[\"TransactionID\"])\n"
      ],
      "metadata": {
        "colab": {
          "base_uri": "https://localhost:8080/"
        },
        "id": "bfOP5tRjGKF-",
        "outputId": "8cc3c538-7f2b-4de9-b19a-7efe185f0f20"
      },
      "execution_count": 22,
      "outputs": [
        {
          "output_type": "stream",
          "name": "stdout",
          "text": [
            "Duplicate TransactionID rows: 0\n"
          ]
        }
      ]
    },
    {
      "cell_type": "markdown",
      "source": [
        "Impute missing values (separate numeric & object)"
      ],
      "metadata": {
        "id": "EGkZXXfnPGYk"
      }
    },
    {
      "cell_type": "code",
      "source": [
        "num_cols = df.select_dtypes(include=['number']).columns.tolist()\n",
        "obj_cols = df.select_dtypes(include=['object']).columns.tolist()\n",
        "print(f\"Numeric columns: {len(num_cols)}, Object columns: {len(obj_cols)}\")\n",
        "\n",
        "# Numeric imputer (median)\n",
        "num_imputer = SimpleImputer(strategy='median')\n",
        "df[num_cols] = num_imputer.fit_transform(df[num_cols])\n",
        "\n",
        "# Categorical imputer (fill with 'missing')\n",
        "df[obj_cols] = df[obj_cols].fillna(\"missing\")\n",
        "\n",
        "# Save imputers for reproducibility\n",
        "with open(os.path.join(OUT_DIR, \"num_imputer.pkl\"), \"wb\") as f:\n",
        "    pickle.dump(num_imputer, f)"
      ],
      "metadata": {
        "colab": {
          "base_uri": "https://localhost:8080/"
        },
        "id": "7Z1TIDPEGKEE",
        "outputId": "82cebd6a-1eeb-4c1a-f0ae-e2a6367f2b65"
      },
      "execution_count": 23,
      "outputs": [
        {
          "output_type": "stream",
          "name": "stdout",
          "text": [
            "Numeric columns: 394, Object columns: 29\n"
          ]
        }
      ]
    },
    {
      "cell_type": "markdown",
      "source": [
        "7. Feature engineering: TransactionDT -> hour/day/week"
      ],
      "metadata": {
        "id": "VH-4-k_9PXM-"
      }
    },
    {
      "cell_type": "code",
      "source": [
        "# TransactionDT is seconds from a reference point (contest-specific).\n",
        "# Create modular features without assuming an absolute start date.\n",
        "if 'TransactionDT' in df.columns:\n",
        "    df['TransactionHour'] = (df['TransactionDT'] // 3600) % 24\n",
        "    df['TransactionDay'] = (df['TransactionDT'] // (3600*24)) % 7\n",
        "    df['TransactionWeekday'] = ((df['TransactionDT'] // (3600*24)))  # relative day index\n",
        "    print(\"Added TransactionHour, TransactionDay, TransactionWeekday.\")\n",
        "else:\n",
        "    print(\"TransactionDT not found; skipping time feature engineering.\")"
      ],
      "metadata": {
        "colab": {
          "base_uri": "https://localhost:8080/"
        },
        "id": "g88qjGRkPWUk",
        "outputId": "f4ee379f-f6a4-43bc-c01c-1e24a62b8f16"
      },
      "execution_count": 24,
      "outputs": [
        {
          "output_type": "stream",
          "name": "stdout",
          "text": [
            "Added TransactionHour, TransactionDay, TransactionWeekday.\n"
          ]
        },
        {
          "output_type": "stream",
          "name": "stderr",
          "text": [
            "/tmp/ipython-input-3346111625.py:4: PerformanceWarning: DataFrame is highly fragmented.  This is usually the result of calling `frame.insert` many times, which has poor performance.  Consider joining all columns at once using pd.concat(axis=1) instead. To get a de-fragmented frame, use `newframe = frame.copy()`\n",
            "  df['TransactionHour'] = (df['TransactionDT'] // 3600) % 24\n",
            "/tmp/ipython-input-3346111625.py:5: PerformanceWarning: DataFrame is highly fragmented.  This is usually the result of calling `frame.insert` many times, which has poor performance.  Consider joining all columns at once using pd.concat(axis=1) instead. To get a de-fragmented frame, use `newframe = frame.copy()`\n",
            "  df['TransactionDay'] = (df['TransactionDT'] // (3600*24)) % 7\n",
            "/tmp/ipython-input-3346111625.py:6: PerformanceWarning: DataFrame is highly fragmented.  This is usually the result of calling `frame.insert` many times, which has poor performance.  Consider joining all columns at once using pd.concat(axis=1) instead. To get a de-fragmented frame, use `newframe = frame.copy()`\n",
            "  df['TransactionWeekday'] = ((df['TransactionDT'] // (3600*24)))  # relative day index\n"
          ]
        }
      ]
    },
    {
      "cell_type": "markdown",
      "source": [
        "8. Simple transforms (log) for skewed monetary features"
      ],
      "metadata": {
        "id": "qoZVFFFHPxkW"
      }
    },
    {
      "cell_type": "code",
      "source": [
        "if 'TransactionAmt' in df.columns:\n",
        "    df['TransactionAmt_log1p'] = np.log1p(df['TransactionAmt'])\n",
        "    print(\"Added TransactionAmt_log1p.\")"
      ],
      "metadata": {
        "colab": {
          "base_uri": "https://localhost:8080/"
        },
        "id": "eOPZPnz3GKB6",
        "outputId": "8e0d43dd-2e67-44ce-84e4-da8b0ab7b8eb"
      },
      "execution_count": 25,
      "outputs": [
        {
          "output_type": "stream",
          "name": "stdout",
          "text": [
            "Added TransactionAmt_log1p.\n"
          ]
        },
        {
          "output_type": "stream",
          "name": "stderr",
          "text": [
            "/tmp/ipython-input-2558044994.py:2: PerformanceWarning: DataFrame is highly fragmented.  This is usually the result of calling `frame.insert` many times, which has poor performance.  Consider joining all columns at once using pd.concat(axis=1) instead. To get a de-fragmented frame, use `newframe = frame.copy()`\n",
            "  df['TransactionAmt_log1p'] = np.log1p(df['TransactionAmt'])\n"
          ]
        }
      ]
    },
    {
      "cell_type": "markdown",
      "source": [
        "9. Categorical encoding strategy\n",
        "- For low-cardinality (<=20) -> LabelEncode\n",
        "- For moderate/high-cardinality -> frequency encode + leave original optionally\n",
        " - Provide out-of-fold target encoding function below for training stage"
      ],
      "metadata": {
        "id": "pSpIxVtnQDwI"
      }
    },
    {
      "cell_type": "code",
      "source": [
        "LOW_CARD_THRESHOLD = 20\n",
        "label_encoders = {}\n",
        "\n",
        "for c in obj_cols:\n",
        "    n_uniques = df[c].nunique(dropna=False)\n",
        "    if n_uniques <= LOW_CARD_THRESHOLD:\n",
        "        le = LabelEncoder()\n",
        "        df[c] = le.fit_transform(df[c].astype(str))\n",
        "        label_encoders[c] = le\n",
        "        # save encoder\n",
        "        with open(os.path.join(OUT_DIR, f\"label_encoder_{c}.pkl\"), \"wb\") as f:\n",
        "            pickle.dump(le, f)\n",
        "    else:\n",
        "        # frequency encode\n",
        "        freq = df[c].value_counts(dropna=False)\n",
        "        df[c + \"_freq\"] = df[c].map(freq).astype('uint32')\n",
        "        # Keep the original object column optionally (comment out next line to drop original)\n",
        "        df.drop(columns=[c], inplace=True)\n",
        "\n",
        "print(\"Categorical encoding completed. New shape:\", df.shape)"
      ],
      "metadata": {
        "colab": {
          "base_uri": "https://localhost:8080/"
        },
        "id": "FEriYyd8QDaP",
        "outputId": "bb10e509-f272-4b8c-a9be-67fdb594a00f"
      },
      "execution_count": 26,
      "outputs": [
        {
          "output_type": "stream",
          "name": "stderr",
          "text": [
            "/tmp/ipython-input-212412475.py:16: PerformanceWarning: DataFrame is highly fragmented.  This is usually the result of calling `frame.insert` many times, which has poor performance.  Consider joining all columns at once using pd.concat(axis=1) instead. To get a de-fragmented frame, use `newframe = frame.copy()`\n",
            "  df[c + \"_freq\"] = df[c].map(freq).astype('uint32')\n",
            "/tmp/ipython-input-212412475.py:16: PerformanceWarning: DataFrame is highly fragmented.  This is usually the result of calling `frame.insert` many times, which has poor performance.  Consider joining all columns at once using pd.concat(axis=1) instead. To get a de-fragmented frame, use `newframe = frame.copy()`\n",
            "  df[c + \"_freq\"] = df[c].map(freq).astype('uint32')\n",
            "/tmp/ipython-input-212412475.py:16: PerformanceWarning: DataFrame is highly fragmented.  This is usually the result of calling `frame.insert` many times, which has poor performance.  Consider joining all columns at once using pd.concat(axis=1) instead. To get a de-fragmented frame, use `newframe = frame.copy()`\n",
            "  df[c + \"_freq\"] = df[c].map(freq).astype('uint32')\n",
            "/tmp/ipython-input-212412475.py:16: PerformanceWarning: DataFrame is highly fragmented.  This is usually the result of calling `frame.insert` many times, which has poor performance.  Consider joining all columns at once using pd.concat(axis=1) instead. To get a de-fragmented frame, use `newframe = frame.copy()`\n",
            "  df[c + \"_freq\"] = df[c].map(freq).astype('uint32')\n",
            "/tmp/ipython-input-212412475.py:16: PerformanceWarning: DataFrame is highly fragmented.  This is usually the result of calling `frame.insert` many times, which has poor performance.  Consider joining all columns at once using pd.concat(axis=1) instead. To get a de-fragmented frame, use `newframe = frame.copy()`\n",
            "  df[c + \"_freq\"] = df[c].map(freq).astype('uint32')\n",
            "/tmp/ipython-input-212412475.py:16: PerformanceWarning: DataFrame is highly fragmented.  This is usually the result of calling `frame.insert` many times, which has poor performance.  Consider joining all columns at once using pd.concat(axis=1) instead. To get a de-fragmented frame, use `newframe = frame.copy()`\n",
            "  df[c + \"_freq\"] = df[c].map(freq).astype('uint32')\n"
          ]
        },
        {
          "output_type": "stream",
          "name": "stdout",
          "text": [
            "Categorical encoding completed. New shape: (206508, 427)\n"
          ]
        }
      ]
    },
    {
      "cell_type": "markdown",
      "source": [
        "10. Aggregation features (example: per card1)"
      ],
      "metadata": {
        "id": "ehwJEb6OQqHJ"
      }
    },
    {
      "cell_type": "code",
      "source": [
        "AGG_COL = 'card1' if 'card1' in df.columns else None\n",
        "if AGG_COL:\n",
        "    agg = df.groupby(AGG_COL)['TransactionAmt_log1p'].agg(['mean','std','count']).reset_index().rename(\n",
        "        columns={'mean': f'{AGG_COL}_amt_mean', 'std': f'{AGG_COL}_amt_std', 'count': f'{AGG_COL}_txn_count'}\n",
        "    )\n",
        "    df = df.merge(agg, on=AGG_COL, how='left')\n",
        "    # downcast\n",
        "    df[f'{AGG_COL}_txn_count'] = df[f'{AGG_COL}_txn_count'].astype('uint32')\n",
        "    print(f\"Added aggregation features for {AGG_COL}.\")"
      ],
      "metadata": {
        "colab": {
          "base_uri": "https://localhost:8080/"
        },
        "id": "VOlUKHDzQqzQ",
        "outputId": "7e1d9e54-3d10-4d1a-e3ca-e13f82ba2bf0"
      },
      "execution_count": 27,
      "outputs": [
        {
          "output_type": "stream",
          "name": "stdout",
          "text": [
            "Added aggregation features for card1.\n"
          ]
        }
      ]
    },
    {
      "cell_type": "markdown",
      "source": [
        "11. Feature reduction: drop near-zero variance or useless IDs"
      ],
      "metadata": {
        "id": "-F5pvfrFQzSn"
      }
    },
    {
      "cell_type": "code",
      "source": [
        "drop_ids = ['TransactionID']\n",
        "for c in drop_ids:\n",
        "    if c in df.columns:\n",
        "        df.drop(columns=[c], inplace=True)\n",
        "\n",
        "# Remove columns with single unique value\n",
        "nunique = df.nunique()\n",
        "const_cols = nunique[nunique <= 1].index.tolist()\n",
        "if const_cols:\n",
        "    print(\"Dropping constant columns:\", const_cols)\n",
        "    df.drop(columns=const_cols, inplace=True)\n",
        "\n",
        "print(\"Shape after reduction:\", df.shape)"
      ],
      "metadata": {
        "colab": {
          "base_uri": "https://localhost:8080/"
        },
        "id": "2dqgmE3DQ0c_",
        "outputId": "6c54eafb-9008-487f-fff8-7c76be4f56ba"
      },
      "execution_count": 28,
      "outputs": [
        {
          "output_type": "stream",
          "name": "stdout",
          "text": [
            "Dropping constant columns: ['V107']\n",
            "Shape after reduction: (206508, 428)\n"
          ]
        }
      ]
    },
    {
      "cell_type": "markdown",
      "source": [
        "12. Prepare for modeling: train/validation split (time-aware)"
      ],
      "metadata": {
        "id": "dNinewKyRAIr"
      }
    },
    {
      "cell_type": "code",
      "source": [
        "# We will use TransactionDT ordering if present, otherwise use random split stratified by isFraud.\n",
        "if 'TransactionDT' in df.columns:\n",
        "    df = df.sort_values('TransactionDT').reset_index(drop=True)\n",
        "    split_index = int(0.8 * len(df))\n",
        "    train_df = df.iloc[:split_index].reset_index(drop=True)\n",
        "    val_df = df.iloc[split_index:].reset_index(drop=True)\n",
        "    print(f\"Time-aware split using TransactionDT: train {train_df.shape}, val {val_df.shape}\")\n",
        "else:\n",
        "    train_df, val_df = train_test_split(df, test_size=0.2, stratify=df['isFraud'], random_state=RANDOM_STATE)\n",
        "    print(f\"Random stratified split: train {train_df.shape}, val {val_df.shape}\")\n",
        "\n",
        "# Save the preprocessed train/val to parquet\n",
        "train_df.to_parquet(os.path.join(OUT_DIR, \"train_preprocessed.parquet\"), index=False)\n",
        "val_df.to_parquet(os.path.join(OUT_DIR, \"val_preprocessed.parquet\"), index=False)\n",
        "print(\"Saved preprocessed train/val sets to\", OUT_DIR)"
      ],
      "metadata": {
        "colab": {
          "base_uri": "https://localhost:8080/"
        },
        "id": "HPrRU_YSRBFl",
        "outputId": "63594654-453a-4aa4-ebaf-b0cff40d65d6"
      },
      "execution_count": 29,
      "outputs": [
        {
          "output_type": "stream",
          "name": "stdout",
          "text": [
            "Time-aware split using TransactionDT: train (165206, 428), val (41302, 428)\n",
            "Saved preprocessed train/val sets to preprocessed\n"
          ]
        }
      ]
    },
    {
      "cell_type": "markdown",
      "source": [
        " 13. Out-of-fold target encoding utility (for training use only)\n",
        "\n",
        "This function creates target-encoded columns using KFold to avoid leakage.\n",
        "Do NOT apply target encoding before splitting; use only on train folds and map to validation."
      ],
      "metadata": {
        "id": "DO0e3I0yRusf"
      }
    },
    {
      "cell_type": "code",
      "source": [
        "def oof_target_encode(train_df, val_df, col, target='isFraud', n_splits=5, alpha=10):\n",
        "    \"\"\"\n",
        "    Performs KFold-styled target encoding on `col` in train_df, returning:\n",
        "    - train_encoded: series aligned with train_df\n",
        "    - val_encoded: series for val_df using statistics from full train_df (or OOF-safe mapping)\n",
        "    \"\"\"\n",
        "    # Prepare output array\n",
        "    train_encoded = pd.Series(index=train_df.index, dtype='float64')\n",
        "    global_mean = train_df[target].mean()\n",
        "    kf = StratifiedKFold(n_splits=n_splits, shuffle=True, random_state=RANDOM_STATE)\n",
        "    for train_idx, holdout_idx in kf.split(train_df, train_df[target]):\n",
        "        tr_part = train_df.iloc[train_idx]\n",
        "        ho_part = train_df.iloc[holdout_idx]\n",
        "        agg = tr_part.groupby(col)[target].agg(['mean','count'])\n",
        "        smooth = (agg['mean'] * agg['count'] + global_mean * alpha) / (agg['count'] + alpha)\n",
        "        # map for holdout\n",
        "        train_encoded.iloc[holdout_idx] = ho_part[col].map(smooth).fillna(global_mean)\n",
        "    # Now encode validation using full train stats\n",
        "    full_agg = train_df.groupby(col)[target].agg(['mean','count'])\n",
        "    smooth_full = (full_agg['mean'] * full_agg['count'] + global_mean * alpha) / (full_agg['count'] + alpha)\n",
        "    val_encoded = val_df[col].map(smooth_full).fillna(global_mean)\n",
        "    return train_encoded, val_encoded"
      ],
      "metadata": {
        "id": "s4XAXLthR2Xe"
      },
      "execution_count": 30,
      "outputs": []
    },
    {
      "cell_type": "code",
      "source": [
        "# Save final train/val with target-encoded columns\n",
        "train_df.to_parquet(os.path.join(OUT_DIR, \"train_preprocessed_with_te.parquet\"), index=False)\n",
        "val_df.to_parquet(os.path.join(OUT_DIR, \"val_preprocessed_with_te.parquet\"), index=False)\n",
        "\n",
        "# Also save a CSV-preview for quick viewing\n",
        "train_df.head(3).to_csv(os.path.join(OUT_DIR, \"train_head_preview.csv\"), index=False)\n",
        "\n",
        "print(\"Preprocessing complete. Artifacts saved in\", OUT_DIR)"
      ],
      "metadata": {
        "colab": {
          "base_uri": "https://localhost:8080/"
        },
        "id": "6P5aU-9rSE_1",
        "outputId": "fbd1c272-0cd3-4a9e-8102-8ed168598098"
      },
      "execution_count": 31,
      "outputs": [
        {
          "output_type": "stream",
          "name": "stdout",
          "text": [
            "Preprocessing complete. Artifacts saved in preprocessed\n"
          ]
        }
      ]
    }
  ]
}